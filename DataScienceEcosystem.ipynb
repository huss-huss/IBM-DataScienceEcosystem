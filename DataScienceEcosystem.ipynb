{
 "cells": [
  {
   "cell_type": "markdown",
   "id": "3e53d182-21c7-43b4-9710-956658c77f73",
   "metadata": {
    "tags": []
   },
   "source": [
    "# Name: Peer-graded_Assignment_Submitting_My_Work"
   ]
  },
  {
   "cell_type": "markdown",
   "id": "9400ed73-eb5d-425f-8682-cba1115d9abc",
   "metadata": {},
   "source": [
    "# Data Science Tools and Ecosystem\n"
   ]
  },
  {
   "cell_type": "markdown",
   "id": "68e8b60c-83c3-4637-a2b3-562ed43d633c",
   "metadata": {},
   "source": [
    "## Introduction\n",
    "\n",
    "In this notebook, Data Science Tools and Ecosystem are summarized.\n"
   ]
  },
  {
   "cell_type": "markdown",
   "id": "5cfd6217-82dc-4cbf-9065-f5c094f31ec9",
   "metadata": {},
   "source": [
    "## Data Science Languages\n",
    "\n",
    "## Some of the popular languages that Data Scientists use are:\n",
    "\n",
    "1. Python\n",
    "2. SQL\n",
    "3. Julia\n",
    "4. Scala\n",
    "5. MATLAB\n",
    "6. Java\n"
   ]
  },
  {
   "cell_type": "markdown",
   "id": "bc48e3f6-dcdf-493d-a820-de2f7c98fd74",
   "metadata": {},
   "source": [
    "## Data Science Libraries\n",
    "\n",
    "## Some of the popular libraries that Data Scientists use are:\n",
    "\n",
    "1. Keras\n",
    "2. PyTorch\n",
    "3. Scrapy\n",
    "4. SciKit-Learn\n",
    "5. ELI5\n",
    "6. TensorFlow\n"
   ]
  },
  {
   "cell_type": "markdown",
   "id": "9e964c98-841c-49c5-8a27-350de67418f6",
   "metadata": {},
   "source": [
    "## Data Science Tools\n",
    "\n",
    "| Data Science Tools |\n",
    "|--------------------|\n",
    "| Jupyter Notebooks  |\n",
    "| RStudio            |\n",
    "| VS Code            |\n"
   ]
  },
  {
   "cell_type": "markdown",
   "id": "0f064c00-1c49-4436-b457-11e19adb1809",
   "metadata": {},
   "source": [
    " # Below are a few examples of evaluating arithmetic expressions in Python.\n",
    " \n",
    " ## Arithmetic Addition\n",
    "\n",
    " result_addition = 5 + 3\n",
    "\n",
    " print(\"Result of addition:\",result_addition)\n",
    "\n",
    " ### Result of addition: 8\n",
    "\n",
    " \n",
    "\n",
    " ## Arithmetic Exponentiation\n",
    "\n",
    " result_exponentiation = 2 ** 4\n",
    "\n",
    " print(\"Result of Exponentiation:\",result_exponentiation)\n",
    " \n",
    " ### Result exponentiation\n",
    "\n",
    " 16\n"
   ]
  },
  {
   "cell_type": "code",
   "execution_count": 22,
   "id": "3ae99477-162c-4dbb-b87d-6a9315628cfe",
   "metadata": {
    "tags": []
   },
   "outputs": [
    {
     "name": "stdout",
     "output_type": "stream",
     "text": [
      "Result: 17\n"
     ]
    }
   ],
   "source": [
    "# This is a simple arithmetic expression to multiply then add integers.\n",
    "result = (3 * 4) + 5\n",
    "print(\"Result:\", result)\n"
   ]
  },
  {
   "cell_type": "code",
   "execution_count": 23,
   "id": "b2b8d18a-3257-41b7-9bb0-3b5fb17c413d",
   "metadata": {
    "tags": []
   },
   "outputs": [
    {
     "name": "stdout",
     "output_type": "stream",
     "text": [
      "Result: 3.3333333333333335\n"
     ]
    }
   ],
   "source": [
    "# This will convert 200 minutes to hours by dividing by 60.\n",
    "minutes = 200\n",
    "hours = minutes / 60\n",
    "print(\"Result:\", hours)\n"
   ]
  },
  {
   "cell_type": "markdown",
   "id": "7975450f-b83a-4c02-9fa3-8deec5c79662",
   "metadata": {},
   "source": [
    "**Objectives:**\n",
    "\n",
    "- Explore popular languages used in Data Science.\n",
    "- Understand basic arithmetic expressions in Python.\n",
    "- Introduce and execute simple code cells in a Jupyter Notebook.\n",
    "- Learn about common development environment tools for Data Science.\n",
    "- Apply arithmetic operations to convert minutes to hours in Python.\n"
   ]
  },
  {
   "cell_type": "markdown",
   "id": "fad38084-38f1-410d-9164-92d0bc06458e",
   "metadata": {},
   "source": [
    "## Author\n",
    "\n",
    "John Doe\n"
   ]
  },
  {
   "cell_type": "code",
   "execution_count": null,
   "id": "e79dd299-f7d3-46fe-94ff-91bfff1b9478",
   "metadata": {},
   "outputs": [],
   "source": []
  }
 ],
 "metadata": {
  "kernelspec": {
   "display_name": "Python",
   "language": "python",
   "name": "conda-env-python-py"
  },
  "language_info": {
   "codemirror_mode": {
    "name": "ipython",
    "version": 3
   },
   "file_extension": ".py",
   "mimetype": "text/x-python",
   "name": "python",
   "nbconvert_exporter": "python",
   "pygments_lexer": "ipython3",
   "version": "3.7.12"
  }
 },
 "nbformat": 4,
 "nbformat_minor": 5
}
